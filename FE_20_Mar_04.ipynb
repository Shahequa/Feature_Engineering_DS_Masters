{
 "cells": [
  {
   "cell_type": "markdown",
   "id": "29988b59-c6d0-4651-a752-5a403a27dd52",
   "metadata": {},
   "source": [
    "## Feature Engineering 3\n",
    "**By Shahequa Modabbera**"
   ]
  },
  {
   "cell_type": "markdown",
   "id": "294113ed-28ac-433c-926b-5cab846e8a25",
   "metadata": {},
   "source": [
    "### Q1. What is data encoding? How is it useful in data science?"
   ]
  },
  {
   "cell_type": "markdown",
   "id": "6600dcb0-3b4f-4804-ada8-8cb40eb03a87",
   "metadata": {},
   "source": [
    "Ans) Encoding is the process of converting the data or a given sequence of characters, symbols, alphabets etc., into a specified format, for the secured transmission of data.\n",
    "Data encoding is the conversion of data into digital signals i.e. zeros and ones.\n",
    "\n",
    "When working on some datasets, we found that some of the features are categorical, if we pass that feature directly to our model, our model can't understand those feature variables. We all know that machines can't understand categorical data. Machines require all independent and dependent variables i.e input and output features to be numeric. This means that if our data contain a categorical variable, we must have to encode it to the numbers before we fit our data to the model.\n",
    "\n",
    "Models only work with numerical values. For this reason, it is necessary to convert the categorical values of the features into numerical ones, So the machine can learn from those data and gives the right model. This process of converting categorical data into numerical data is called Encoding."
   ]
  },
  {
   "cell_type": "markdown",
   "id": "31086fde-51d4-4d68-8050-5278a25d0f35",
   "metadata": {},
   "source": [
    "### Q2. What is nominal encoding? Provide an example of how you would use it in a real-world scenario."
   ]
  },
  {
   "cell_type": "markdown",
   "id": "29087156-8dea-4df0-ab2f-1a4bfd613f9b",
   "metadata": {},
   "source": [
    "Ans) Nominal encoding, also known as one-hot encoding, is a technique used to transform categorical data into numerical data that can be used for machine learning models. \n",
    "\n",
    "In nominal encoding, each unique value in a categorical feature is represented by a binary column. If there are n unique values in a categorical feature, n binary columns are created, and each row in the dataset has a 1 in the column corresponding to its value and 0 in all other columns.\n",
    "\n",
    "For example, suppose we have a dataset of students and their grades in different subjects. One of the features is the subject name, which is categorical data. The possible subjects are Math, English, Science, and History. To use this feature in a machine learning model, we can apply nominal encoding to transform the categorical data into numerical data. \n",
    "\n",
    "After nominal encoding, the subject feature would be transformed into four binary columns: Math, English, Science, and History. If a student got a grade in Math, the Math column for that row would have a value of 1, and all other columns would have a value of 0. Similarly, if a student got a grade in Science, the Science column for that row would have a value of 1, and all other columns would have a value of 0.\n",
    "\n",
    "Nominal encoding is useful in data science because many machine learning algorithms require numerical input data. By encoding categorical data as numerical data, we can use it in these algorithms. Additionally, nominal encoding helps prevent the algorithm from assuming an ordinal relationship between the categories that may not exist."
   ]
  },
  {
   "cell_type": "markdown",
   "id": "626b9795-4782-496b-ba39-35844c50ddd6",
   "metadata": {},
   "source": [
    "### Q3. In what situations is nominal encoding preferred over one-hot encoding? Provide a practical example."
   ]
  },
  {
   "cell_type": "markdown",
   "id": "d670b6fc-fcce-4da9-aa72-1f8654a7a066",
   "metadata": {},
   "source": [
    "Ans) Nominal encoding is preferred over one-hot encoding when the categorical variable has a large number of unique categories, and creating one-hot encoded variables would result in a high number of columns in the dataset, making it computationally expensive and difficult to interpret.\n",
    "\n",
    "For example, let's say you have a dataset of customer reviews for a product, and one of the features is \"product category.\" If the dataset contains thousands of unique categories, one-hot encoding this variable would create thousands of new columns in the dataset, making it difficult to work with and potentially leading to computational issues. In this case, nominal encoding could be a better option as it reduces the number of columns and can still capture the categorical information."
   ]
  },
  {
   "cell_type": "markdown",
   "id": "24128ff4-5a6d-45b0-a814-a4fb042b6f25",
   "metadata": {},
   "source": [
    "### Q4. Suppose you have a dataset containing categorical data with 5 unique values. Which encoding technique would you use to transform this data into a format suitable for machine learning algorithms? Explain why you made this choice."
   ]
  },
  {
   "cell_type": "markdown",
   "id": "66a942d0-6026-41c5-8d5a-24536dc7c043",
   "metadata": {},
   "source": [
    "Ans) The choice of encoding technique depends on the specific nature of the categorical data and the machine learning algorithm being used. In general, if the categorical data has a natural ordering or hierarchy, ordinal encoding may be more appropriate. On the other hand, if the categorical data has no natural order, nominal encoding or one-hot encoding may be more appropriate.\n",
    "\n",
    "If the categorical data has no natural order, nominal encoding or one-hot encoding may be more suitable. Nominal encoding would create a binary column for each unique value in the categorical feature, with a 1 in the corresponding column and 0s in all other columns. One-hot encoding would also create a binary column for each unique value, but with only one 1 per row, indicating the presence of that value.\n",
    "\n",
    "Therefore, in this scenario, either nominal encoding or one-hot encoding would be suitable. The choice between the two depends on the specific nature of the data and the algorithm being used."
   ]
  },
  {
   "cell_type": "markdown",
   "id": "c47abed0-ab90-49b0-aea4-1bce0f725a75",
   "metadata": {},
   "source": [
    "### Q5. In a machine learning project, you have a dataset with 1000 rows and 5 columns. Two of the columns are categorical, and the remaining three columns are numerical. If you were to use nominal encoding to transform the categorical data, how many new columns would be created? Show your calculations."
   ]
  },
  {
   "cell_type": "markdown",
   "id": "654e81d3-31fa-4df2-96be-39d4cf06100d",
   "metadata": {},
   "source": [
    "Ans) If you use nominal encoding on a categorical variable with n unique values, n binary columns will be created. Since there are 2 categorical columns in this dataset, let's assume they have n1 and n2 unique values respectively. \n",
    "\n",
    "For the first categorical column, n1 binary columns will be created, and for the second categorical column, n2 binary columns will be created. \n",
    "\n",
    "Therefore, the total number of new columns created will be:\n",
    "\n",
    "n1 + n2 + 3 (for the three numerical columns)\n",
    "\n",
    "Since we do not know the exact number of unique values in each of the categorical columns, we cannot provide a specific answer."
   ]
  },
  {
   "cell_type": "markdown",
   "id": "ee2743ff-a1f9-4355-a195-f56536f2494b",
   "metadata": {},
   "source": [
    "### Q6. You are working with a dataset containing information about different types of animals, including their species, habitat, and diet. Which encoding technique would you use to transform the categorical data into a format suitable for machine learning algorithms? Justify your answer."
   ]
  },
  {
   "cell_type": "markdown",
   "id": "850fe7db-ebd1-472f-aed6-1fb9e519e250",
   "metadata": {},
   "source": [
    "Ans) The choice of encoding technique depends on the specific characteristics of the categorical variables. If the categorical variables have a small number of unique values, nominal encoding might be a good choice. However, if the categorical variables have many unique values, or if there is no clear ordinal relationship between the values, one-hot encoding is generally preferred.\n",
    "\n",
    "In the case of animal species, habitat, and diet, it is likely that one-hot encoding would be the most appropriate choice. This is because each of these categorical variables is likely to have a large number of unique values, and there is no clear ordinal relationship between the values. For example, there are many different species of animals, each with its own unique name, and it would not make sense to assign a numerical value to each species in a way that reflects its \"rank\" or \"level\" in some way. Similarly, habitats and diets are likely to have many different unique values, each of which is equally important.\n",
    "\n",
    "Therefore, one-hot encoding would create a binary column for each unique value in each categorical variable, allowing the machine learning algorithm to treat each value as a separate entity without imposing any artificial numerical relationships between the values."
   ]
  },
  {
   "cell_type": "markdown",
   "id": "68deda4d-1849-4233-863a-9b73dc2c7b69",
   "metadata": {},
   "source": [
    "### Q7.You are working on a project that involves predicting customer churn for a telecommunications company. You have a dataset with 5 features, including the customer's gender, age, contract type, monthly charges, and tenure. Which encoding technique(s) would you use to transform the categorical data into numerical data? Provide a step-by-step explanation of how you would implement the encoding."
   ]
  },
  {
   "cell_type": "markdown",
   "id": "67241e4d-6c0d-4d5e-8256-f6c0c97c9d5b",
   "metadata": {},
   "source": [
    "Ans) To transform the categorical data into numerical data, we can use one-hot encoding for the \"contract type\" feature, as it has more than two categories. For the \"gender\" feature, which has only two categories, we can use binary encoding.\n",
    "\n",
    "Here's a step-by-step explanation of how to implement the encoding:\n",
    "\n",
    "1. Binary encoding for \"gender\" feature:\n",
    "   - Create a new column named \"gender_encoded\".\n",
    "   - Assign a value of 0 or 1 to each row in the \"gender_encoded\" column, where 0 represents \"Male\" and 1 represents \"Female\".\n",
    "\n",
    "2. One-hot encoding for \"contract type\" feature:\n",
    "   - Create three new columns named \"contract_type_Month-to-month\", \"contract_type_One year\", and \"contract_type_Two year\".\n",
    "   - Assign a value of 0 or 1 to each row in the new columns, where 1 represents the contract type for that row and 0 represents all other contract types.\n",
    "\n",
    "The Gender column is represented by two binary columns, one for Male and one for Female, and the Contract column is represented by three binary columns, one for each unique value (One year, Two year, and Month-to-month). So we end up with a total of 8 columns, 5 of which are numerical (age, monthly charges, tenure, and the 2 binary gender columns) and 3 of which are one-hot encoded categorical columns."
   ]
  }
 ],
 "metadata": {
  "kernelspec": {
   "display_name": "Python 3 (ipykernel)",
   "language": "python",
   "name": "python3"
  },
  "language_info": {
   "codemirror_mode": {
    "name": "ipython",
    "version": 3
   },
   "file_extension": ".py",
   "mimetype": "text/x-python",
   "name": "python",
   "nbconvert_exporter": "python",
   "pygments_lexer": "ipython3",
   "version": "3.10.8"
  }
 },
 "nbformat": 4,
 "nbformat_minor": 5
}
