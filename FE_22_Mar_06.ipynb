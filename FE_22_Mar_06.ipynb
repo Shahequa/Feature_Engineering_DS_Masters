{
 "cells": [
  {
   "cell_type": "markdown",
   "id": "6dc3f57c-59e3-4ea7-b8d1-690501578422",
   "metadata": {},
   "source": [
    "## Feature Engineering 5\n",
    "**By Shahequa Modabbera**"
   ]
  },
  {
   "cell_type": "markdown",
   "id": "92fa4f93-33f9-47fc-8de7-65fc83e31cdf",
   "metadata": {},
   "source": [
    "### Q1. Pearson correlation coefficient is a measure of the linear relationship between two variables. \n",
    "### Suppose you have collected data on the amount of time students spend studying for an exam and their final exam scores. Calculate the Pearson correlation coefficient between these two variables and interpret the result."
   ]
  },
  {
   "cell_type": "code",
   "execution_count": 2,
   "id": "ef070b0d-316c-4138-ad0e-594cd133a8db",
   "metadata": {},
   "outputs": [
    {
     "name": "stdout",
     "output_type": "stream",
     "text": [
      "Pearson correlation coefficient: 0.96\n",
      "P-value: 0.00\n"
     ]
    }
   ],
   "source": [
    "import numpy as np\n",
    "from scipy.stats import pearsonr\n",
    "\n",
    "# generate sample data\n",
    "studying_time = np.array([10, 8, 5, 7, 12, 9, 11, 6, 4, 8, 10, 7, 6, 3, 9, 11, 12, 10, 8, 7, 6, 5, 4, 3, 2, 5, 7, 9, 10, 11, 12, 3, 4, 6, 8, 9, 11, 12, 7, 5, 4, 6, 8, 10, 11, 9, 7, 6, 8, 10])\n",
    "exam_scores = np.array([90, 80, 70, 75, 95, 85, 90, 65, 60, 75, 85, 80, 70, 50, 80, 85, 90, 95, 80, 75, 70, 65, 60, 55, 40, 60, 70, 80, 90, 95, 100, 50, 55, 65, 75, 80, 90, 95, 80, 70, 60, 65, 75, 85, 90, 85, 75, 70, 80, 90])\n",
    "\n",
    "# calculate Pearson correlation coefficient and p-value\n",
    "corr_coef, p_value = pearsonr(studying_time, exam_scores)\n",
    "\n",
    "# print results\n",
    "print(f\"Pearson correlation coefficient: {corr_coef:.2f}\")\n",
    "print(f\"P-value: {p_value:.2f}\")"
   ]
  },
  {
   "cell_type": "markdown",
   "id": "faa39326-801a-4c44-975e-6f79f7761ee4",
   "metadata": {},
   "source": [
    "The Pearson correlation coefficient ranges from -1 to 1, where -1 indicates a perfect negative linear relationship, 0 indicates no linear relationship, and 1 indicates a perfect positive linear relationship. In this case, the correlation coefficient is positive and close to 1, which suggests a strong positive linear relationship between the amount of time spent studying and the final exam score. In other words, students who spend more time studying tend to score higher on the exam."
   ]
  },
  {
   "cell_type": "markdown",
   "id": "5c0537e2-3c64-4970-b3ed-6f427e33a58e",
   "metadata": {},
   "source": [
    "### Q2. Spearman's rank correlation is a measure of the monotonic relationship between two variables.\n",
    "### Suppose you have collected data on the amount of sleep individuals get each night and their overall job satisfaction level on a scale of 1 to 10. Calculate the Spearman's rank correlation between these two variables and interpret the result."
   ]
  },
  {
   "cell_type": "code",
   "execution_count": 3,
   "id": "206008c1-fba5-4d1b-ad3a-fd63487abc29",
   "metadata": {},
   "outputs": [
    {
     "name": "stdout",
     "output_type": "stream",
     "text": [
      "Spearman's rank correlation coefficient: 0.8432993810941914\n",
      "p-value: 0.0021735421404129145\n"
     ]
    }
   ],
   "source": [
    "import scipy.stats as stats\n",
    "import numpy as np\n",
    "\n",
    "# Sample data\n",
    "sleep = np.array([8, 6, 7, 7, 5, 6, 7, 8, 7, 6])\n",
    "satisfaction = np.array([9, 7, 8, 6, 5, 7, 8, 9, 8, 7])\n",
    "\n",
    "# Calculate rank correlation coefficient\n",
    "corr_coef, p_value = stats.spearmanr(sleep, satisfaction)\n",
    "\n",
    "# Print results\n",
    "print(\"Spearman's rank correlation coefficient:\", corr_coef)\n",
    "print(\"p-value:\", p_value)\n"
   ]
  },
  {
   "cell_type": "markdown",
   "id": "a614007a-726b-47c3-86c2-8cb9220ab3a1",
   "metadata": {},
   "source": [
    "Interpretation: The Spearman's rank correlation coefficient is 0.84, which indicates a strong positive monotonic relationship between the amount of sleep individuals get each night and their overall job satisfaction level. The p-value is less than 0.05, which means that the correlation is statistically significant at the 5% level, indicating that the relationship is unlikely to be due to chance alone."
   ]
  },
  {
   "cell_type": "markdown",
   "id": "1a8d9409-4593-4c6c-bc0c-f2537c52a754",
   "metadata": {},
   "source": [
    "### Q3. Suppose you are conducting a study to examine the relationship between the number of hours of exercise per week and body mass index (BMI) in a sample of adults. You collected data on both variables for 50 participants. Calculate the Pearson correlation coefficient and the Spearman's rank correlation between these two variables and compare the results."
   ]
  },
  {
   "cell_type": "code",
   "execution_count": 4,
   "id": "a1853682-fc2e-42d9-9423-31079afcc51a",
   "metadata": {},
   "outputs": [
    {
     "name": "stdout",
     "output_type": "stream",
     "text": [
      "Pearson correlation coefficient: 0.163\n",
      "Spearman's rank correlation: 0.158\n"
     ]
    }
   ],
   "source": [
    "import numpy as np\n",
    "from scipy.stats import pearsonr, spearmanr\n",
    "\n",
    "# generate random data for exercise hours and BMI\n",
    "exercise_hours = np.random.normal(5, 2, 50)\n",
    "bmi = np.random.normal(25, 5, 50)\n",
    "\n",
    "# calculate Pearson correlation coefficient and p-value\n",
    "pearson_corr, p_value = pearsonr(exercise_hours, bmi)\n",
    "\n",
    "# calculate Spearman's rank correlation and p-value\n",
    "spearman_corr, p_value = spearmanr(exercise_hours, bmi)\n",
    "\n",
    "print(\"Pearson correlation coefficient: {:.3f}\".format(pearson_corr))\n",
    "print(\"Spearman's rank correlation: {:.3f}\".format(spearman_corr))"
   ]
  },
  {
   "cell_type": "markdown",
   "id": "92b3ac3a-a3f0-40eb-ae9c-aff8ec73a3a5",
   "metadata": {},
   "source": [
    "Since both correlation coefficients are positive, there is a weak positive relationship between the number of hours of exercise per week and BMI. However, the Pearson correlation coefficient is slightly greater than the Spearman's rank correlation, indicating that the relationship between these two variables might be entirely linear. The Spearman's rank correlation takes into account the rank order of the data, whereas the Pearson correlation coefficient assumes that the relationship between the two variables is linear."
   ]
  },
  {
   "cell_type": "markdown",
   "id": "6c5d7107-6851-4ac4-9ea9-c7c666fb3ec7",
   "metadata": {},
   "source": [
    "### Q4. A researcher is interested in examining the relationship between the number of hours individuals spend watching television per day and their level of physical activity. The researcher collected data on both variables from a sample of 50 participants. Calculate the Pearson correlation coefficient between these two variables."
   ]
  },
  {
   "cell_type": "code",
   "execution_count": 10,
   "id": "a02e315e-5c33-4b51-a7b1-12316e20a925",
   "metadata": {},
   "outputs": [
    {
     "name": "stdout",
     "output_type": "stream",
     "text": [
      "Pearson correlation coefficient:  -0.05523529619792324\n",
      "p-value:  0.7062080321294039\n"
     ]
    }
   ],
   "source": [
    "import numpy as np\n",
    "from scipy.stats import pearsonr\n",
    "\n",
    "# Assuming the hours of TV watching and physical activity data are stored in two arrays, tv_hours and activity_level\n",
    "tv_hours = np.array([3, 2, 4, 5, 1, 3, 2, 4, 3, 1, 5, 4, 2, 1, 3, 4, 5, 2, 1, 4, 3, 2, 5, 1, 3, 4, 2, 1, 5, 3, 4, 2, 5, 1, 4, 3, 2, 1, 5, 4, 3, 2, 1, 5, 4, 3, 2, 1, 5])\n",
    "activity_level = np.array([2, 3, 4, 3, 5, 2, 3, 4, 3, 2, 1, 2, 3, 5, 4, 3, 2, 5, 4, 3, 2, 1, 2, 3, 4, 5, 2, 3, 4, 5, 2, 1, 3, 4, 5, 2, 3, 4, 1, 5, 2, 3, 4, 5, 2, 3, 4, 1, 5])\n",
    "\n",
    "# Calculate the Pearson correlation coefficient and its p-value\n",
    "corr_coef, p_value = pearsonr(tv_hours, activity_level)\n",
    "\n",
    "# Print the results\n",
    "print(\"Pearson correlation coefficient: \", corr_coef)\n",
    "print(\"p-value: \", p_value)"
   ]
  },
  {
   "cell_type": "markdown",
   "id": "ab122f83-c4cf-4ce2-9503-3b3b50505086",
   "metadata": {},
   "source": [
    "The negative correlation coefficient of -0.050 indicates a weak negative linear relationship between the number of hours spent watching TV per day and the level of physical activity. In other words, as the number of hours of TV watching increases, the level of physical activity tends to decrease. The p-value of 0.70 indicates that this relationship is statistically not significant at a 0.05 level of significance, meaning that it is likely to have occurred by chance."
   ]
  },
  {
   "cell_type": "markdown",
   "id": "295b6d40-1251-4b79-8a04-b8cda5610495",
   "metadata": {},
   "source": [
    "### Q5. A survey was conducted to examine the relationship between age and preference for a particular brand of soft drink. The survey results are shown below:\n",
    "\n",
    "|Age(Years)  |  Soft drink Preference|\n",
    "|:-----------|:--------------------|\n",
    "|25        |       Coke          |\n",
    "|42        |       Pepsi         |\n",
    "|37        |       Mountain dew  |\n",
    "|19        |       Coke          |\n",
    "|31        |       Pepsi         |\n",
    "|28        |       Coke          |"
   ]
  },
  {
   "cell_type": "markdown",
   "id": "ea36b2b8-5ed3-4ec2-851e-d3fb90ef612b",
   "metadata": {},
   "source": [
    "The given data shows the age and soft drink preference of 6 individuals. To calculate the correlation between age and soft drink preference, we need to convert the categorical variable \"Soft drink preference\" into numerical values using label encoding."
   ]
  },
  {
   "cell_type": "code",
   "execution_count": 6,
   "id": "ea16f4fd-1196-4963-b752-4a9314cc1d1b",
   "metadata": {},
   "outputs": [
    {
     "name": "stdout",
     "output_type": "stream",
     "text": [
      "[0 2 1 0 2 0]\n"
     ]
    }
   ],
   "source": [
    "from sklearn.preprocessing import LabelEncoder\n",
    "\n",
    "# Create a LabelEncoder object\n",
    "le = LabelEncoder()\n",
    "\n",
    "# Encode the \"Soft drink Preference\" variable\n",
    "preference_encoded = le.fit_transform(['Coke', 'Pepsi', 'Mountain dew', 'Coke', 'Pepsi', 'Coke'])\n",
    "\n",
    "# Print the encoded labels\n",
    "print(preference_encoded)"
   ]
  },
  {
   "cell_type": "markdown",
   "id": "e58cc276-7a4d-461f-bb0a-71d2ae358e7e",
   "metadata": {},
   "source": [
    "Using this encoded data, we can calculate the Pearson correlation coefficient between age and soft drink preference using the pearsonr() function from the scipy.stats module in Python."
   ]
  },
  {
   "cell_type": "code",
   "execution_count": 7,
   "id": "47d86fbf-444e-44a6-b917-3de61db62fc1",
   "metadata": {},
   "outputs": [
    {
     "name": "stdout",
     "output_type": "stream",
     "text": [
      "Pearson correlation coefficient: 0.7587035441865058\n"
     ]
    }
   ],
   "source": [
    "from scipy.stats import pearsonr\n",
    "\n",
    "age = [25, 42, 37, 19, 31, 28]\n",
    "drink_preference = [0, 1, 2, 0, 1, 0]\n",
    "\n",
    "corr, _ = pearsonr(age, drink_preference)\n",
    "print(\"Pearson correlation coefficient:\", corr)"
   ]
  },
  {
   "cell_type": "markdown",
   "id": "85e665a2-829f-465d-bc53-a72c924bf2dc",
   "metadata": {},
   "source": [
    "The Pearson correlation coefficient between age and soft drink preference is 0.75. This indicates a positive correlation between the two variables, which means that as age increases, there is a tendency for soft drink preference to shift from Coke to Pepsi to Mountain Dew. "
   ]
  },
  {
   "cell_type": "markdown",
   "id": "36f69ab4-f4d2-402e-a637-4eab6a39d994",
   "metadata": {},
   "source": [
    "### Q6. A company is interested in examining the relationship between the number of sales calls made per day and the number of sales made per week. The company collected data on both variables from a sample of 30 sales representatives. Calculate the Pearson correlation coefficient between these two variables."
   ]
  },
  {
   "cell_type": "code",
   "execution_count": 8,
   "id": "2b9551d6-89bb-4575-91eb-abf8ea93e07b",
   "metadata": {},
   "outputs": [
    {
     "name": "stdout",
     "output_type": "stream",
     "text": [
      "Pearson correlation coefficient: 0.9808073526250323\n"
     ]
    }
   ],
   "source": [
    "import numpy as np\n",
    "import pandas as pd\n",
    "\n",
    "# Creating example data\n",
    "sales_calls = [12, 15, 18, 10, 8, 11, 16, 20, 22, 25, 14, 17, 19, 21, 24, 23, 13, 9, 7, 6, 4, 3, 2, 1, 5, 19, 17, 14, 11, 9]\n",
    "sales_made = [4, 6, 8, 2, 1, 3, 7, 9, 10, 12, 5, 6, 7, 9, 11, 10, 4, 2, 1, 0, 0, 0, 0, 0, 0, 7, 6, 5, 3, 2]\n",
    "\n",
    "# Creating a pandas DataFrame\n",
    "data = pd.DataFrame({'Sales Calls': sales_calls, 'Sales Made': sales_made})\n",
    "\n",
    "# Calculating the Pearson correlation coefficient\n",
    "corr_coef = data['Sales Calls'].corr(data['Sales Made'], method='pearson')\n",
    "\n",
    "print('Pearson correlation coefficient:', corr_coef)"
   ]
  },
  {
   "cell_type": "markdown",
   "id": "d895b039-5393-4694-9ea4-0fef0f05c7bb",
   "metadata": {},
   "source": [
    "Interpretation: The Pearson correlation coefficient is 0.98, which indicates a strong positive correlation between the number of sales calls made per day and the number of sales made per week. This suggests that as the number of sales calls increases, the number of sales made also tends to increase. However, correlation does not imply causation, so further analysis is needed to determine if there is a causal relationship between these variables."
   ]
  }
 ],
 "metadata": {
  "kernelspec": {
   "display_name": "Python 3 (ipykernel)",
   "language": "python",
   "name": "python3"
  },
  "language_info": {
   "codemirror_mode": {
    "name": "ipython",
    "version": 3
   },
   "file_extension": ".py",
   "mimetype": "text/x-python",
   "name": "python",
   "nbconvert_exporter": "python",
   "pygments_lexer": "ipython3",
   "version": "3.10.8"
  }
 },
 "nbformat": 4,
 "nbformat_minor": 5
}
