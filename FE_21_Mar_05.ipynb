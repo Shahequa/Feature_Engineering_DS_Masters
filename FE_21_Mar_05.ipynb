{
 "cells": [
  {
   "cell_type": "markdown",
   "id": "4122c802-c75e-47d7-9e15-85b430ac4cb5",
   "metadata": {},
   "source": [
    "## Feature Engineering 4\n",
    "**By Shahequa Modabbera**"
   ]
  },
  {
   "cell_type": "markdown",
   "id": "fe8c0c13-871f-4d31-ac64-a0300d11389c",
   "metadata": {},
   "source": [
    "### Q1. What is the difference between Ordinal Encoding and Label Encoding? Provide an example of when you might choose one over the other."
   ]
  },
  {
   "cell_type": "markdown",
   "id": "03c7c42d-19db-4e01-8412-99ed270e1b5e",
   "metadata": {},
   "source": [
    "Ans)\n",
    "Ordinal encoding and label encoding are two common techniques used to convert categorical data into numerical data for machine learning algorithms. \n",
    "\n",
    "Label encoding is a technique in which each unique value in a categorical feature is assigned a numerical label. For example, if we have a categorical feature called \"color\" with the values \"red\", \"blue\", and \"green\", we can encode them as 0, 1, and 2, respectively.\n",
    "\n",
    "Ordinal encoding, on the other hand, is a technique that assigns a numerical value to each unique value in a categorical feature based on their order or rank. For example, if we have a categorical feature called \"education level\" with values \"high school\", \"some college\", \"bachelor's degree\", and \"master's degree\", we can encode them as 1, 2, 3, and 4, respectively, since we can assume that someone with a master's degree has a higher education level than someone with a high school degree.\n",
    "\n",
    "The main difference between label encoding and ordinal encoding is that label encoding does not consider any order or hierarchy among the unique values of the categorical feature, while ordinal encoding does.\n",
    "\n",
    "When choosing between the two techniques, it depends on the nature of the categorical feature and the problem at hand. If there is a clear order or hierarchy among the unique values of the categorical feature, it may be more appropriate to use ordinal encoding. For example, if we are working with a dataset that has a categorical feature like \"education level\", ordinal encoding would be a better choice since there is a natural order to the different levels of education. On the other hand, if there is no clear order or hierarchy among the unique values of the categorical feature, label encoding may be more appropriate. For example, if we are working with a dataset that has a categorical feature like \"color\", there is no inherent order to the different colors."
   ]
  },
  {
   "cell_type": "markdown",
   "id": "4814d976-73ef-430c-853e-83627a4697cd",
   "metadata": {},
   "source": [
    "### Q2. Explain how Target Guided Ordinal Encoding works and provide an example of when you might use it in a machine learning project."
   ]
  },
  {
   "cell_type": "markdown",
   "id": "f099e188-ff02-44c6-9da3-2ead35c57bfc",
   "metadata": {},
   "source": [
    "Target Guided Ordinal Encoding is a type of ordinal encoding technique that replaces the categories with a number based on the target variable's mean or median value for each category. It is useful when there is a strong relationship between the categorical variable and the target variable. \n",
    "\n",
    "Here is an example of how to use Target Guided Ordinal Encoding in a machine learning project. Suppose you are working on a project that involves predicting the salary of employees in a company based on their job titles. You have a dataset that includes job titles and corresponding salaries for a sample of employees in the company. One way to use Target Guided Ordinal Encoding is to group the job titles by their mean salary and encode them accordingly.\n",
    "\n",
    "First, calculate the mean salary for each job title in the dataset. Then, sort the job titles by their mean salary, assigning a unique number to each job title based on their position in the sorted list. For example, suppose we have the following job titles and mean salaries:\n",
    "\n",
    "- Manager: $100,000\n",
    "\n",
    "- Sales Associate: $50,000\n",
    "\n",
    "- Engineer: $75,000\n",
    "\n",
    "- Receptionist: $30,000\n",
    "\n",
    "In this case, we could encode the job titles using the following mapping:\n",
    "\n",
    "- Manager: 4\n",
    "- Engineer: 3\n",
    "- Sales Associate: 2\n",
    "- Receptionist: 1\n",
    "\n",
    "We assigned the number 4 to Manager because it has the highest mean salary, followed by 3 for Engineer, 2 for Sales Associate, and 1 for Receptionist. \n",
    "\n",
    "This encoding approach can be useful when the job title is an important feature for predicting salaries, and there is a clear relationship between job title and salary. By encoding the job title based on its relationship with salary, the resulting encoding can be a more informative feature for machine learning algorithms to use in predicting salary."
   ]
  },
  {
   "cell_type": "markdown",
   "id": "b0049ac3-f438-4b24-acc1-61f9e412cc07",
   "metadata": {},
   "source": [
    "### Q3. Define covariance and explain why it is important in statistical analysis. How is covariance calculated?"
   ]
  },
  {
   "cell_type": "markdown",
   "id": "c837e958-6109-4256-8571-e0c529b22ba2",
   "metadata": {},
   "source": [
    "Covariance is a statistical measure that shows how two variables change together. It tells us if two variables move in the same direction (positive covariance), the opposite direction (negative covariance), or if there is no relationship between them (zero covariance). \n",
    "\n",
    "Covariance is important in statistical analysis because it helps us understand the relationship between two variables. For example, if we are analyzing the relationship between a person's age and their income, we can use covariance to see if there is a positive or negative relationship between the two variables. If we find a positive covariance, we can conclude that as age increases, income also tends to increase. If we find a negative covariance, we can conclude that as age increases, income tends to decrease.\n",
    "\n",
    "Covariance is calculated by multiplying the difference between each value and the mean of each variable, and then dividing the result by the total number of values. The formula for covariance is:\n",
    "\n",
    "cov(X,Y) = (1/n) * Σ[(xi - x̄)(yi - ȳ)]\n",
    "\n",
    "where X and Y are the two variables being analyzed, n is the number of observations, xi and yi are the individual values of the variables, x̄ and ȳ are the means of the variables, and Σ is the sum of the products of the differences between each value and its respective mean."
   ]
  },
  {
   "cell_type": "markdown",
   "id": "301afc97-a576-4883-bfcd-e3d8e4d562c5",
   "metadata": {},
   "source": [
    "### Q4. For a dataset with the following categorical variables: Color (red, green, blue), Size (small, medium, large), and Material (wood, metal, plastic), perform label encoding using Python's scikit-learn library. Show your code and explain the output."
   ]
  },
  {
   "cell_type": "code",
   "execution_count": 1,
   "id": "662ac7f1-ea18-4aff-b98b-89ae2df3159d",
   "metadata": {},
   "outputs": [
    {
     "name": "stdout",
     "output_type": "stream",
     "text": [
      "   color  size  material\n",
      "0      2     2         2\n",
      "1      1     1         0\n",
      "2      0     1         1\n",
      "3      0     0         2\n",
      "4      2     2         0\n",
      "5      1     1         1\n"
     ]
    }
   ],
   "source": [
    "from sklearn.preprocessing import LabelEncoder\n",
    "import pandas as pd\n",
    "\n",
    "# create a sample dataset\n",
    "data = {'color': ['red', 'green', 'blue', 'blue', 'red', 'green'],\n",
    "        'size': ['small', 'medium', 'medium', 'large', 'small', 'medium'],\n",
    "        'material': ['wood', 'metal', 'plastic', 'wood', 'metal', 'plastic']}\n",
    "\n",
    "df = pd.DataFrame(data)\n",
    "\n",
    "# initialize label encoder\n",
    "le = LabelEncoder()\n",
    "\n",
    "# label encode the categorical columns\n",
    "df['color'] = le.fit_transform(df['color'])\n",
    "df['size'] = le.fit_transform(df['size'])\n",
    "df['material'] = le.fit_transform(df['material'])\n",
    "\n",
    "# print the encoded dataset\n",
    "print(df)"
   ]
  },
  {
   "cell_type": "markdown",
   "id": "36b46355-8060-46e5-af1d-a843a923f7a6",
   "metadata": {},
   "source": [
    "In this code, we first create a sample dataset with three categorical columns: color, size, and material. We then import the LabelEncoder class from scikit-learn's preprocessing module.\n",
    "\n",
    "We then initialize a LabelEncoder object and use it to transform each categorical column in the dataset. The fit_transform() method of the LabelEncoder object is used to transform each column into numerical format.\n",
    "\n",
    "Finally, we print the encoded dataset to see the output. The resulting output shows the encoded values for each categorical variable. The encoded values start from 0 and increment by 1 for each unique category.\n",
    "\n",
    "For example, the color column has values [red, green, blue], which are encoded as [2, 1, 0] respectively. The size column has values [small, medium, large], which are encoded as [2, 1, 0]. And the material column has values [wood, metal, plastic], which are encoded as [2, 1, 0]."
   ]
  },
  {
   "cell_type": "markdown",
   "id": "a7100798-99ff-4bcc-9f12-69167cb65e30",
   "metadata": {},
   "source": [
    "### Q5. Calculate the covariance matrix for the following variables in a dataset: Age, Income, and Education level. Interpret the results."
   ]
  },
  {
   "cell_type": "code",
   "execution_count": 5,
   "id": "ef6653ac-2edc-4c32-b1e8-4443e2a823d1",
   "metadata": {},
   "outputs": [
    {
     "name": "stdout",
     "output_type": "stream",
     "text": [
      "                         age  education_level        income\n",
      "age                23.518886        -0.025768  2.828212e+03\n",
      "education_level    -0.025768         1.404444 -5.159082e+02\n",
      "income           2828.212013      -515.908154  8.033428e+07\n"
     ]
    }
   ],
   "source": [
    "import numpy as np\n",
    "import pandas as pd\n",
    "\n",
    "# Generate sample data\n",
    "#Generate random sample data for age (continuous variable)\n",
    "age = np.random.normal(loc=30, scale=5, size=100)\n",
    "\n",
    "# Generate random sample data for income (continuous variable)\n",
    "income = np.random.normal(loc=50000, scale=10000, size=100)\n",
    "\n",
    "# Generate random sample data for education level (categorical variable)\n",
    "education_levels = ['High School', \"Bachelor's\", \"Master's\", 'PhD']\n",
    "education = np.random.choice(education_levels, size=100)\n",
    "\n",
    "from sklearn.preprocessing import LabelEncoder\n",
    "\n",
    "# Convert categorical variable to numerical variable\n",
    "le = LabelEncoder()\n",
    "education_level_numerical = le.fit_transform(education)\n",
    "\n",
    "# Create DataFrame\n",
    "data = pd.DataFrame({'age': age, 'education_level': education_level_numerical, 'income': income})\n",
    "\n",
    "# calculate the covariance matrix\n",
    "cov_matrix = data.cov()\n",
    "\n",
    "print(cov_matrix)"
   ]
  },
  {
   "cell_type": "markdown",
   "id": "7903ad08-f63e-4251-aa6a-8465656ea284",
   "metadata": {},
   "source": [
    "Interpretation:\n",
    "- There is positive correlation between age and income as age increases, income also increases.\n",
    "- There is negative correlation between age and education indicating no relation.\n",
    "- There is negative correlation between income and education."
   ]
  },
  {
   "cell_type": "markdown",
   "id": "8f2cd33f-1229-46da-ae5f-d7c034221c0e",
   "metadata": {},
   "source": [
    "### Q6. You are working on a machine learning project with a dataset containing several categorical variables, including \"Gender\" (Male/Female), \"Education Level\" (High School/Bachelor's/Master's/PhD), and \"Employment Status\" (Unemployed/Part-Time/Full-Time). Which encoding method would you use for each variable, and why?"
   ]
  },
  {
   "cell_type": "markdown",
   "id": "eecdbd55-8e0e-4644-8749-e027ccdcae58",
   "metadata": {},
   "source": [
    "For the \"Gender\" variable, we would use binary encoding since there are only two unique values (Male/Female). Binary encoding would create one binary column to represent the variable.\n",
    "\n",
    "For the \"Education Level\" variable, we would use ordinal encoding since there is a clear order to the categories (High School < Bachelor's < Master's < PhD). This method would assign numerical values to each category based on their order.\n",
    "\n",
    "For the \"Employment Status\" variable, we would use one-hot encoding since there is no clear order to the categories and each category is equally important. This method would create a binary column for each unique value in the variable."
   ]
  },
  {
   "cell_type": "markdown",
   "id": "9018f51e-732f-4301-b49f-3877e34fda79",
   "metadata": {},
   "source": [
    "### Q7. You are analyzing a dataset with two continuous variables, \"Temperature\" and \"Humidity\", and two categorical variables, \"Weather Condition\" (Sunny/Cloudy/Rainy) and \"Wind Direction\" (North/South/ East/West). Calculate the covariance between each pair of variables and interpret the results."
   ]
  },
  {
   "cell_type": "code",
   "execution_count": 3,
   "id": "dba6f41c-e1d7-4f73-b9d6-59b8b48b38ec",
   "metadata": {},
   "outputs": [
    {
     "name": "stdout",
     "output_type": "stream",
     "text": [
      "Covariance Matrix:\n",
      "             Temperature   Humidity   Weather      Wind\n",
      "Temperature     6.952381 -19.785714  1.071429 -0.785714\n",
      "Humidity      -19.785714  72.952381 -1.738095  2.619048\n",
      "Weather         1.071429  -1.738095  0.809524 -0.071429\n",
      "Wind           -0.785714   2.619048 -0.071429  1.619048\n"
     ]
    }
   ],
   "source": [
    "from sklearn.preprocessing import LabelEncoder\n",
    "import pandas as pd\n",
    "\n",
    "# create a sample dataset\n",
    "weather_condition = ['Sunny', 'Cloudy', 'Rainy', 'Sunny', 'Rainy', 'Cloudy', 'Sunny']\n",
    "wind_direction = ['North', 'South', 'East', 'West', 'West', 'North', 'East']\n",
    "temperature = [25, 20, 18, 22, 19, 23, 24]\n",
    "humidity = [50, 65, 70, 60, 75, 55, 62]\n",
    "\n",
    "# convert categorical variables to numerical variables\n",
    "le = LabelEncoder()\n",
    "weather_condition_numerical = le.fit_transform(weather_condition)\n",
    "wind_direction_numerical = le.fit_transform(wind_direction)\n",
    "\n",
    "# Calculate covariance matrix\n",
    "data = pd.DataFrame({\"Temperature\": temperature, \"Humidity\": humidity, \"Weather\": weather_condition_numerical, \"Wind\": wind_direction_numerical})\n",
    "cov_matrix = data.cov()\n",
    "\n",
    "print(\"Covariance Matrix:\")\n",
    "print(cov_matrix)"
   ]
  },
  {
   "cell_type": "markdown",
   "id": "d733e0b3-e678-43a2-b906-dbd7413de174",
   "metadata": {},
   "source": [
    "Interpretation: The covariance between temperature and humidity is -19.78, indicating a negative relationship between the two variables. The covariance between temperature and weather condition is 1, indicating a positive relationship between the two variables. The covariance between temperature and wind direction is -0.78, indicating a negative relationship between the two variables. The covariance between humidity and weather condition is -1.73, indicating a negative relationship between the two variables. The covariance between humidity and wind direction is 2.61, indicating a  positive relationship between the two variables. The covariance between weather condition and wind direction is -0.071, indicating a weak negative relationship between the two variables."
   ]
  }
 ],
 "metadata": {
  "kernelspec": {
   "display_name": "Python 3 (ipykernel)",
   "language": "python",
   "name": "python3"
  },
  "language_info": {
   "codemirror_mode": {
    "name": "ipython",
    "version": 3
   },
   "file_extension": ".py",
   "mimetype": "text/x-python",
   "name": "python",
   "nbconvert_exporter": "python",
   "pygments_lexer": "ipython3",
   "version": "3.10.8"
  }
 },
 "nbformat": 4,
 "nbformat_minor": 5
}
